{
 "cells": [
  {
   "cell_type": "markdown",
   "id": "b7a63d84-05ae-4264-b0b1-88eb6ec07704",
   "metadata": {},
   "source": [
    "# phyton Variables= object= identifier"
   ]
  },
  {
   "cell_type": "code",
   "execution_count": 3,
   "id": "a3adc1e9-0cbb-4a75-bd97-5b679ecaf387",
   "metadata": {},
   "outputs": [
    {
     "data": {
      "text/plain": [
       "5"
      ]
     },
     "execution_count": 3,
     "metadata": {},
     "output_type": "execute_result"
    }
   ],
   "source": [
    "va = 5\n",
    "va"
   ]
  },
  {
   "cell_type": "code",
   "execution_count": 4,
   "id": "c07c4f89-8cc7-4331-a425-a6100e12f9de",
   "metadata": {},
   "outputs": [
    {
     "data": {
      "text/plain": [
       "140732963039800"
      ]
     },
     "execution_count": 4,
     "metadata": {},
     "output_type": "execute_result"
    }
   ],
   "source": [
    "id(va)  # hear Id is stored address of va vareable"
   ]
  },
  {
   "cell_type": "code",
   "execution_count": 5,
   "id": "0f762509-8e62-4c20-9155-6ae8061bc7af",
   "metadata": {
    "scrolled": true
   },
   "outputs": [
    {
     "ename": "SyntaxError",
     "evalue": "invalid decimal literal (262220673.py, line 1)",
     "output_type": "error",
     "traceback": [
      "\u001b[1;36m  Cell \u001b[1;32mIn[5], line 1\u001b[1;36m\u001b[0m\n\u001b[1;33m    1nit = 18\u001b[0m\n\u001b[1;37m    ^\u001b[0m\n\u001b[1;31mSyntaxError\u001b[0m\u001b[1;31m:\u001b[0m invalid decimal literal\n"
     ]
    }
   ],
   "source": [
    "1nit = 18"
   ]
  },
  {
   "cell_type": "code",
   "execution_count": 7,
   "id": "2314fcb1-9cdc-497d-9d5e-378c92f777c3",
   "metadata": {},
   "outputs": [
    {
     "data": {
      "text/plain": [
       "18"
      ]
     },
     "execution_count": 7,
     "metadata": {},
     "output_type": "execute_result"
    }
   ],
   "source": [
    "nit1=18\n",
    "nit1"
   ]
  },
  {
   "cell_type": "code",
   "execution_count": 8,
   "id": "c34359ab-d881-486b-a779-3d58deeebc7a",
   "metadata": {},
   "outputs": [
    {
     "ename": "NameError",
     "evalue": "name 'NIT2' is not defined",
     "output_type": "error",
     "traceback": [
      "\u001b[1;31m---------------------------------------------------------------------------\u001b[0m",
      "\u001b[1;31mNameError\u001b[0m                                 Traceback (most recent call last)",
      "Cell \u001b[1;32mIn[8], line 2\u001b[0m\n\u001b[0;32m      1\u001b[0m nit2\u001b[38;5;241m=\u001b[39m\u001b[38;5;241m1\u001b[39m\n\u001b[1;32m----> 2\u001b[0m NIT2\n",
      "\u001b[1;31mNameError\u001b[0m: name 'NIT2' is not defined"
     ]
    }
   ],
   "source": [
    "nit2=1\n",
    "NIT2"
   ]
  },
  {
   "cell_type": "code",
   "execution_count": 9,
   "id": "3e9356d9-a096-4461-9f29-27f450ab3782",
   "metadata": {},
   "outputs": [
    {
     "ename": "SyntaxError",
     "evalue": "invalid syntax (3437172757.py, line 1)",
     "output_type": "error",
     "traceback": [
      "\u001b[1;36m  Cell \u001b[1;32mIn[9], line 1\u001b[1;36m\u001b[0m\n\u001b[1;33m    v$=10\u001b[0m\n\u001b[1;37m     ^\u001b[0m\n\u001b[1;31mSyntaxError\u001b[0m\u001b[1;31m:\u001b[0m invalid syntax\n"
     ]
    }
   ],
   "source": [
    "v$=10\n",
    "v$"
   ]
  },
  {
   "cell_type": "code",
   "execution_count": 10,
   "id": "8c89e5a5-5e80-43c4-96d1-c6b28864fe3a",
   "metadata": {},
   "outputs": [
    {
     "data": {
      "text/plain": [
       "1"
      ]
     },
     "execution_count": 10,
     "metadata": {},
     "output_type": "execute_result"
    }
   ],
   "source": [
    "v_=1\n",
    "v_"
   ]
  },
  {
   "cell_type": "code",
   "execution_count": 11,
   "id": "bebb610f-1c56-4c23-a832-b92072df453f",
   "metadata": {},
   "outputs": [
    {
     "data": {
      "text/plain": [
       "['False',\n",
       " 'None',\n",
       " 'True',\n",
       " 'and',\n",
       " 'as',\n",
       " 'assert',\n",
       " 'async',\n",
       " 'await',\n",
       " 'break',\n",
       " 'class',\n",
       " 'continue',\n",
       " 'def',\n",
       " 'del',\n",
       " 'elif',\n",
       " 'else',\n",
       " 'except',\n",
       " 'finally',\n",
       " 'for',\n",
       " 'from',\n",
       " 'global',\n",
       " 'if',\n",
       " 'import',\n",
       " 'in',\n",
       " 'is',\n",
       " 'lambda',\n",
       " 'nonlocal',\n",
       " 'not',\n",
       " 'or',\n",
       " 'pass',\n",
       " 'raise',\n",
       " 'return',\n",
       " 'try',\n",
       " 'while',\n",
       " 'with',\n",
       " 'yield']"
      ]
     },
     "execution_count": 11,
     "metadata": {},
     "output_type": "execute_result"
    }
   ],
   "source": [
    "import keyword\n",
    "keyword.kwlist"
   ]
  },
  {
   "cell_type": "code",
   "execution_count": 12,
   "id": "c75c76bc-adda-41a3-b865-90aa45df457d",
   "metadata": {},
   "outputs": [
    {
     "data": {
      "text/plain": [
       "35"
      ]
     },
     "execution_count": 12,
     "metadata": {},
     "output_type": "execute_result"
    }
   ],
   "source": [
    "len(keyword.kwlist)"
   ]
  },
  {
   "cell_type": "code",
   "execution_count": 18,
   "id": "16aedfe8-ade2-409c-b2da-e36b98a4d282",
   "metadata": {},
   "outputs": [
    {
     "data": {
      "text/plain": [
       "4"
      ]
     },
     "execution_count": 18,
     "metadata": {},
     "output_type": "execute_result"
    }
   ],
   "source": [
    "a=3\n",
    "b=2\n",
    "c=4\n",
    "a\n",
    "b\n",
    "c"
   ]
  },
  {
   "cell_type": "code",
   "execution_count": 21,
   "id": "1894bf21-e618-4a30-b6f8-4dd19c22b5f6",
   "metadata": {},
   "outputs": [
    {
     "name": "stdout",
     "output_type": "stream",
     "text": [
      "3 2 4\n",
      "3\n",
      "2\n",
      "4\n"
     ]
    }
   ],
   "source": [
    "print(a,b,c)\n",
    "print (a)\n",
    "print(b)\n",
    "print(c)"
   ]
  },
  {
   "cell_type": "markdown",
   "id": "25bb17e3-0ae5-49be-994e-1ccd311a8e32",
   "metadata": {},
   "source": [
    "# Data types (int,float,string, boolian,complex)"
   ]
  },
  {
   "cell_type": "code",
   "execution_count": 6,
   "id": "835af0f1-79e0-4504-b808-68e2a9a59afe",
   "metadata": {},
   "outputs": [
    {
     "data": {
      "text/plain": [
       "5"
      ]
     },
     "execution_count": 6,
     "metadata": {},
     "output_type": "execute_result"
    }
   ],
   "source": [
    "i = 5\n",
    "i"
   ]
  },
  {
   "cell_type": "code",
   "execution_count": 7,
   "id": "085b99f9-ad29-45a9-8ae1-aab32fec3976",
   "metadata": {},
   "outputs": [
    {
     "data": {
      "text/plain": [
       "int"
      ]
     },
     "execution_count": 7,
     "metadata": {},
     "output_type": "execute_result"
    }
   ],
   "source": [
    "type (i)"
   ]
  },
  {
   "cell_type": "code",
   "execution_count": 10,
   "id": "c33188b8-ff5a-4b00-a66e-2ae9f5a3bc8b",
   "metadata": {},
   "outputs": [
    {
     "data": {
      "text/plain": [
       "float"
      ]
     },
     "execution_count": 10,
     "metadata": {},
     "output_type": "execute_result"
    }
   ],
   "source": [
    "f = 1.5\n",
    "type(f)"
   ]
  },
  {
   "cell_type": "code",
   "execution_count": 5,
   "id": "84c389ed-1a41-4023-9835-fd631ba4e786",
   "metadata": {},
   "outputs": [
    {
     "ename": "NameError",
     "evalue": "name 'nareshit' is not defined",
     "output_type": "error",
     "traceback": [
      "\u001b[1;31m---------------------------------------------------------------------------\u001b[0m",
      "\u001b[1;31mNameError\u001b[0m                                 Traceback (most recent call last)",
      "Cell \u001b[1;32mIn[5], line 1\u001b[0m\n\u001b[1;32m----> 1\u001b[0m s\u001b[38;5;241m=\u001b[39mnareshit\n\u001b[0;32m      2\u001b[0m s\n",
      "\u001b[1;31mNameError\u001b[0m: name 'nareshit' is not defined"
     ]
    }
   ],
   "source": [
    "s=nareshit\n",
    "s"
   ]
  },
  {
   "cell_type": "code",
   "execution_count": 2,
   "id": "318e55f1-9fab-47f2-ae31-75b86347fbda",
   "metadata": {},
   "outputs": [
    {
     "data": {
      "text/plain": [
       "'nareshit'"
      ]
     },
     "execution_count": 2,
     "metadata": {},
     "output_type": "execute_result"
    }
   ],
   "source": [
    "s= 'nareshit'\n",
    "s"
   ]
  },
  {
   "cell_type": "code",
   "execution_count": 4,
   "id": "36fe3749-3d04-4376-ad5c-00ded5c44ffd",
   "metadata": {},
   "outputs": [
    {
     "data": {
      "text/plain": [
       "'nareshit'"
      ]
     },
     "execution_count": 4,
     "metadata": {},
     "output_type": "execute_result"
    }
   ],
   "source": [
    "s= \"nareshit\"\n",
    "s"
   ]
  },
  {
   "cell_type": "code",
   "execution_count": 8,
   "id": "b14c9ca7-32ed-4422-8214-0656d3f90df8",
   "metadata": {},
   "outputs": [
    {
     "data": {
      "text/plain": [
       "'nareshit is coaching center\\n    we taking a classs of Data science, from prakash sir'"
      ]
     },
     "execution_count": 8,
     "metadata": {},
     "output_type": "execute_result"
    }
   ],
   "source": [
    "s1 = '''nareshit is coaching center\n",
    "    we taking a classs of Data science, from prakash sir'''\n",
    "s1"
   ]
  },
  {
   "cell_type": "markdown",
   "id": "b2529d96-c19d-4880-b7a6-2e3b46daeda0",
   "metadata": {},
   "source": [
    "#### String indexing"
   ]
  },
  {
   "cell_type": "code",
   "execution_count": 9,
   "id": "b21be731-10c4-4ca7-b625-eb210fbe4fb5",
   "metadata": {},
   "outputs": [
    {
     "name": "stdout",
     "output_type": "stream",
     "text": [
      "n\n",
      "t\n"
     ]
    }
   ],
   "source": [
    "print(s[0])\n",
    "print(s[-1])"
   ]
  },
  {
   "cell_type": "code",
   "execution_count": 10,
   "id": "712c1e3c-bdae-45cc-a19f-793697c2e5ef",
   "metadata": {},
   "outputs": [
    {
     "data": {
      "text/plain": [
       "'nareshit'"
      ]
     },
     "execution_count": 10,
     "metadata": {},
     "output_type": "execute_result"
    }
   ],
   "source": [
    "s[:] #slicing"
   ]
  },
  {
   "cell_type": "code",
   "execution_count": 11,
   "id": "75a0fcaf-c22a-499a-ae0c-b94c63a87c89",
   "metadata": {},
   "outputs": [
    {
     "data": {
      "text/plain": [
       "'res'"
      ]
     },
     "execution_count": 11,
     "metadata": {},
     "output_type": "execute_result"
    }
   ],
   "source": [
    "s[2:5]"
   ]
  },
  {
   "cell_type": "code",
   "execution_count": 24,
   "id": "3123b724-aa9e-4e0f-9644-cc585c93f129",
   "metadata": {},
   "outputs": [
    {
     "data": {
      "text/plain": [
       "'nares'"
      ]
     },
     "execution_count": 24,
     "metadata": {},
     "output_type": "execute_result"
    }
   ],
   "source": [
    "s[-8:-3]"
   ]
  },
  {
   "cell_type": "code",
   "execution_count": 25,
   "id": "e59c3282-fdb7-4508-ab9a-94570dae0a28",
   "metadata": {},
   "outputs": [
    {
     "data": {
      "text/plain": [
       "'hit'"
      ]
     },
     "execution_count": 25,
     "metadata": {},
     "output_type": "execute_result"
    }
   ],
   "source": [
    "s[-3:]  #imp if we need -1 index letter just give empty"
   ]
  },
  {
   "cell_type": "markdown",
   "id": "f7ce1ed0-5fc1-4beb-b8ec-71f8761fc692",
   "metadata": {},
   "source": [
    "##### bool"
   ]
  },
  {
   "cell_type": "code",
   "execution_count": 27,
   "id": "8efce748-23f0-4743-bbb7-e33acf8d4c12",
   "metadata": {},
   "outputs": [
    {
     "ename": "NameError",
     "evalue": "name 'true' is not defined",
     "output_type": "error",
     "traceback": [
      "\u001b[1;31m---------------------------------------------------------------------------\u001b[0m",
      "\u001b[1;31mNameError\u001b[0m                                 Traceback (most recent call last)",
      "Cell \u001b[1;32mIn[27], line 1\u001b[0m\n\u001b[1;32m----> 1\u001b[0m true\n",
      "\u001b[1;31mNameError\u001b[0m: name 'true' is not defined"
     ]
    }
   ],
   "source": [
    "true"
   ]
  },
  {
   "cell_type": "code",
   "execution_count": 28,
   "id": "628a5cb5-a49f-446d-a276-a7052aa62f2a",
   "metadata": {},
   "outputs": [
    {
     "data": {
      "text/plain": [
       "True"
      ]
     },
     "execution_count": 28,
     "metadata": {},
     "output_type": "execute_result"
    }
   ],
   "source": [
    "True"
   ]
  },
  {
   "cell_type": "code",
   "execution_count": 30,
   "id": "2c2ed6bc-91f8-445d-b5e0-be49abe8c335",
   "metadata": {},
   "outputs": [],
   "source": [
    "b=True\n",
    "b1=False"
   ]
  },
  {
   "cell_type": "code",
   "execution_count": 31,
   "id": "931ba528-f692-4399-9bba-d5eee958d4d8",
   "metadata": {},
   "outputs": [
    {
     "data": {
      "text/plain": [
       "True"
      ]
     },
     "execution_count": 31,
     "metadata": {},
     "output_type": "execute_result"
    }
   ],
   "source": [
    "b"
   ]
  },
  {
   "cell_type": "code",
   "execution_count": 32,
   "id": "665d691e-cd30-4800-9ad7-ee0de1727361",
   "metadata": {},
   "outputs": [
    {
     "data": {
      "text/plain": [
       "False"
      ]
     },
     "execution_count": 32,
     "metadata": {},
     "output_type": "execute_result"
    }
   ],
   "source": [
    "b1"
   ]
  },
  {
   "cell_type": "code",
   "execution_count": 33,
   "id": "a9a65094-f872-4943-aa61-f43bbc524c7b",
   "metadata": {},
   "outputs": [
    {
     "data": {
      "text/plain": [
       "1"
      ]
     },
     "execution_count": 33,
     "metadata": {},
     "output_type": "execute_result"
    }
   ],
   "source": [
    "b+b1 # true=1 false=0"
   ]
  },
  {
   "cell_type": "code",
   "execution_count": 35,
   "id": "d95be550-1b0f-4f47-9a7a-8afc1b54340f",
   "metadata": {},
   "outputs": [
    {
     "name": "stdout",
     "output_type": "stream",
     "text": [
      "1\n",
      "0\n",
      "0.0\n",
      "0\n"
     ]
    }
   ],
   "source": [
    "print(b-b1)\n",
    "print(b*b1)\n",
    "print(b1/b) #float\n",
    "print(b1//b) #int"
   ]
  },
  {
   "cell_type": "markdown",
   "id": "9fcee3ee-b1f0-43b4-be79-16f381cdd19f",
   "metadata": {},
   "source": [
    "#### complex \n",
    "a+bj\n",
    "where a = real no. & b= imaginary no. & j= Sq root of -1 (only j leter is used)"
   ]
  },
  {
   "cell_type": "code",
   "execution_count": 36,
   "id": "812a03da-8c28-4ed0-a99d-ddabe6bae1eb",
   "metadata": {},
   "outputs": [
    {
     "data": {
      "text/plain": [
       "(10+5j)"
      ]
     },
     "execution_count": 36,
     "metadata": {},
     "output_type": "execute_result"
    }
   ],
   "source": [
    "c1=10+5j\n",
    "c1"
   ]
  },
  {
   "cell_type": "code",
   "execution_count": 37,
   "id": "d4e81db6-171f-4252-aed3-80ba8b4b0c59",
   "metadata": {},
   "outputs": [
    {
     "data": {
      "text/plain": [
       "complex"
      ]
     },
     "execution_count": 37,
     "metadata": {},
     "output_type": "execute_result"
    }
   ],
   "source": [
    "type(c1)"
   ]
  },
  {
   "cell_type": "code",
   "execution_count": 38,
   "id": "68d77d36-7c26-4489-8a83-b626d22ea7ae",
   "metadata": {},
   "outputs": [
    {
     "data": {
      "text/plain": [
       "10.0"
      ]
     },
     "execution_count": 38,
     "metadata": {},
     "output_type": "execute_result"
    }
   ],
   "source": [
    "c1.real"
   ]
  },
  {
   "cell_type": "code",
   "execution_count": 41,
   "id": "1dec9480-36e6-4121-bfcb-64e3b2eb4b8d",
   "metadata": {},
   "outputs": [
    {
     "data": {
      "text/plain": [
       "5.0"
      ]
     },
     "execution_count": 41,
     "metadata": {},
     "output_type": "execute_result"
    }
   ],
   "source": [
    "c1.imag"
   ]
  },
  {
   "cell_type": "code",
   "execution_count": 42,
   "id": "a9618106-cab0-45b2-8edb-2ac11a62e33c",
   "metadata": {},
   "outputs": [
    {
     "data": {
      "text/plain": [
       "(5+10j)"
      ]
     },
     "execution_count": 42,
     "metadata": {},
     "output_type": "execute_result"
    }
   ],
   "source": [
    "c2=5+10j\n",
    "c2"
   ]
  },
  {
   "cell_type": "code",
   "execution_count": 43,
   "id": "6c530dfb-9d03-4be9-b6b1-1039b47f89c5",
   "metadata": {},
   "outputs": [
    {
     "name": "stdout",
     "output_type": "stream",
     "text": [
      "(10+5j)\n",
      "(5+10j)\n"
     ]
    }
   ],
   "source": [
    "print(c1)\n",
    "print(c2)"
   ]
  },
  {
   "cell_type": "code",
   "execution_count": 44,
   "id": "08ef704c-2670-4937-a997-a75d46126c9e",
   "metadata": {},
   "outputs": [
    {
     "data": {
      "text/plain": [
       "(15+15j)"
      ]
     },
     "execution_count": 44,
     "metadata": {},
     "output_type": "execute_result"
    }
   ],
   "source": [
    "c1+c2"
   ]
  },
  {
   "cell_type": "markdown",
   "id": "148ee57b-a8b4-40d1-9a36-20c7a7668fa6",
   "metadata": {},
   "source": [
    "## Type casting or Type conversion"
   ]
  },
  {
   "cell_type": "markdown",
   "id": "f9425ca1-2e86-4f54-bdc1-c1a397982455",
   "metadata": {},
   "source": [
    "### Other data types to int"
   ]
  },
  {
   "cell_type": "code",
   "execution_count": 46,
   "id": "b686b775-7827-4bca-8c3b-bfb3e894dfa7",
   "metadata": {},
   "outputs": [
    {
     "data": {
      "text/plain": [
       "3"
      ]
     },
     "execution_count": 46,
     "metadata": {},
     "output_type": "execute_result"
    }
   ],
   "source": [
    "int(3.4) #convert float to int"
   ]
  },
  {
   "cell_type": "code",
   "execution_count": 47,
   "id": "90cb9717-faf6-4de6-b5a2-c333f6f08f50",
   "metadata": {},
   "outputs": [
    {
     "ename": "TypeError",
     "evalue": "'float' object cannot be interpreted as an integer",
     "output_type": "error",
     "traceback": [
      "\u001b[1;31m---------------------------------------------------------------------------\u001b[0m",
      "\u001b[1;31mTypeError\u001b[0m                                 Traceback (most recent call last)",
      "Cell \u001b[1;32mIn[47], line 1\u001b[0m\n\u001b[1;32m----> 1\u001b[0m \u001b[38;5;28mint\u001b[39m(\u001b[38;5;241m3.4\u001b[39m,\u001b[38;5;241m4.1\u001b[39m)\n",
      "\u001b[1;31mTypeError\u001b[0m: 'float' object cannot be interpreted as an integer"
     ]
    }
   ],
   "source": [
    "int(3.4,4.1) #only one argument or perameter is acepted"
   ]
  },
  {
   "cell_type": "code",
   "execution_count": 48,
   "id": "7d454bf4-ab1a-4d36-bdb6-41f587459ed6",
   "metadata": {},
   "outputs": [
    {
     "data": {
      "text/plain": [
       "1"
      ]
     },
     "execution_count": 48,
     "metadata": {},
     "output_type": "execute_result"
    }
   ],
   "source": [
    "int(True)"
   ]
  },
  {
   "cell_type": "code",
   "execution_count": 49,
   "id": "aa7ae75b-ef0e-4a02-be73-e95900f1fb96",
   "metadata": {},
   "outputs": [
    {
     "ename": "TypeError",
     "evalue": "int() can't convert non-string with explicit base",
     "output_type": "error",
     "traceback": [
      "\u001b[1;31m---------------------------------------------------------------------------\u001b[0m",
      "\u001b[1;31mTypeError\u001b[0m                                 Traceback (most recent call last)",
      "Cell \u001b[1;32mIn[49], line 1\u001b[0m\n\u001b[1;32m----> 1\u001b[0m \u001b[38;5;28mint\u001b[39m(\u001b[38;5;28;01mTrue\u001b[39;00m,\u001b[38;5;28;01mFalse\u001b[39;00m)\n",
      "\u001b[1;31mTypeError\u001b[0m: int() can't convert non-string with explicit base"
     ]
    }
   ],
   "source": [
    "int(True,False)"
   ]
  },
  {
   "cell_type": "code",
   "execution_count": 50,
   "id": "012484f6-afea-4f17-8276-e49e15a9603f",
   "metadata": {},
   "outputs": [
    {
     "name": "stdout",
     "output_type": "stream",
     "text": [
      "3\n",
      "1\n",
      "10\n"
     ]
    }
   ],
   "source": [
    "print(int(3.4))\n",
    "print(int(True))\n",
    "print(int('10'))"
   ]
  },
  {
   "cell_type": "code",
   "execution_count": 51,
   "id": "3425b25e-972d-4795-8fce-506668f09887",
   "metadata": {},
   "outputs": [
    {
     "ename": "TypeError",
     "evalue": "int() argument must be a string, a bytes-like object or a real number, not 'complex'",
     "output_type": "error",
     "traceback": [
      "\u001b[1;31m---------------------------------------------------------------------------\u001b[0m",
      "\u001b[1;31mTypeError\u001b[0m                                 Traceback (most recent call last)",
      "Cell \u001b[1;32mIn[51], line 1\u001b[0m\n\u001b[1;32m----> 1\u001b[0m \u001b[38;5;28mprint\u001b[39m(\u001b[38;5;28mint\u001b[39m(\u001b[38;5;241m10\u001b[39m\u001b[38;5;241m+\u001b[39m\u001b[38;5;241m20\u001b[39mj))\n",
      "\u001b[1;31mTypeError\u001b[0m: int() argument must be a string, a bytes-like object or a real number, not 'complex'"
     ]
    }
   ],
   "source": [
    "print(int(10+20j))"
   ]
  },
  {
   "cell_type": "code",
   "execution_count": 52,
   "id": "fbbea90f-8402-4154-a194-d1325c65c30d",
   "metadata": {},
   "outputs": [
    {
     "ename": "ValueError",
     "evalue": "invalid literal for int() with base 10: 'ten'",
     "output_type": "error",
     "traceback": [
      "\u001b[1;31m---------------------------------------------------------------------------\u001b[0m",
      "\u001b[1;31mValueError\u001b[0m                                Traceback (most recent call last)",
      "Cell \u001b[1;32mIn[52], line 1\u001b[0m\n\u001b[1;32m----> 1\u001b[0m \u001b[38;5;28mint\u001b[39m(\u001b[38;5;124m'\u001b[39m\u001b[38;5;124mten\u001b[39m\u001b[38;5;124m'\u001b[39m)\n",
      "\u001b[1;31mValueError\u001b[0m: invalid literal for int() with base 10: 'ten'"
     ]
    }
   ],
   "source": [
    "int('ten') # In string only number are accepted"
   ]
  },
  {
   "cell_type": "markdown",
   "id": "4243aae6-595a-45ae-84ff-683d9f94916f",
   "metadata": {},
   "source": [
    "### Other data types to float"
   ]
  },
  {
   "cell_type": "code",
   "execution_count": 1,
   "id": "338b7ebe-1d4d-40b4-b3fe-62c3066b8d74",
   "metadata": {},
   "outputs": [
    {
     "data": {
      "text/plain": [
       "23.0"
      ]
     },
     "execution_count": 1,
     "metadata": {},
     "output_type": "execute_result"
    }
   ],
   "source": [
    "float(23)"
   ]
  },
  {
   "cell_type": "code",
   "execution_count": 2,
   "id": "1648433c-a86e-4d6a-b6c9-48a823969306",
   "metadata": {},
   "outputs": [
    {
     "ename": "TypeError",
     "evalue": "float expected at most 1 argument, got 2",
     "output_type": "error",
     "traceback": [
      "\u001b[1;31m---------------------------------------------------------------------------\u001b[0m",
      "\u001b[1;31mTypeError\u001b[0m                                 Traceback (most recent call last)",
      "Cell \u001b[1;32mIn[2], line 1\u001b[0m\n\u001b[1;32m----> 1\u001b[0m \u001b[38;5;28mfloat\u001b[39m(\u001b[38;5;241m23\u001b[39m,\u001b[38;5;241m52\u001b[39m)\n",
      "\u001b[1;31mTypeError\u001b[0m: float expected at most 1 argument, got 2"
     ]
    }
   ],
   "source": [
    "float(23,52)"
   ]
  },
  {
   "cell_type": "code",
   "execution_count": 3,
   "id": "804a1848-0141-44b1-bf7b-db539c2d2357",
   "metadata": {},
   "outputs": [
    {
     "data": {
      "text/plain": [
       "1.0"
      ]
     },
     "execution_count": 3,
     "metadata": {},
     "output_type": "execute_result"
    }
   ],
   "source": [
    "float (True)"
   ]
  },
  {
   "cell_type": "code",
   "execution_count": 4,
   "id": "22ca1df1-3f00-4189-a908-81ae4d50037b",
   "metadata": {},
   "outputs": [
    {
     "data": {
      "text/plain": [
       "0.0"
      ]
     },
     "execution_count": 4,
     "metadata": {},
     "output_type": "execute_result"
    }
   ],
   "source": [
    "float(False)"
   ]
  },
  {
   "cell_type": "code",
   "execution_count": 5,
   "id": "872584d7-bbd8-48ce-92e0-11343f48858b",
   "metadata": {},
   "outputs": [
    {
     "ename": "TypeError",
     "evalue": "float() argument must be a string or a real number, not 'complex'",
     "output_type": "error",
     "traceback": [
      "\u001b[1;31m---------------------------------------------------------------------------\u001b[0m",
      "\u001b[1;31mTypeError\u001b[0m                                 Traceback (most recent call last)",
      "Cell \u001b[1;32mIn[5], line 1\u001b[0m\n\u001b[1;32m----> 1\u001b[0m \u001b[38;5;28mfloat\u001b[39m(\u001b[38;5;241m2\u001b[39m\u001b[38;5;241m+\u001b[39m\u001b[38;5;241m1\u001b[39mj)\n",
      "\u001b[1;31mTypeError\u001b[0m: float() argument must be a string or a real number, not 'complex'"
     ]
    }
   ],
   "source": [
    "float(2+1j)"
   ]
  },
  {
   "cell_type": "code",
   "execution_count": 6,
   "id": "ddb08d35-ee07-49be-99e3-56ff26bd0672",
   "metadata": {},
   "outputs": [
    {
     "data": {
      "text/plain": [
       "10.0"
      ]
     },
     "execution_count": 6,
     "metadata": {},
     "output_type": "execute_result"
    }
   ],
   "source": [
    "float(\"10\")"
   ]
  },
  {
   "cell_type": "code",
   "execution_count": 7,
   "id": "accb3b92-7348-4d94-94dc-652fca746b44",
   "metadata": {},
   "outputs": [
    {
     "ename": "ValueError",
     "evalue": "could not convert string to float: 'ten'",
     "output_type": "error",
     "traceback": [
      "\u001b[1;31m---------------------------------------------------------------------------\u001b[0m",
      "\u001b[1;31mValueError\u001b[0m                                Traceback (most recent call last)",
      "Cell \u001b[1;32mIn[7], line 1\u001b[0m\n\u001b[1;32m----> 1\u001b[0m \u001b[38;5;28mfloat\u001b[39m(\u001b[38;5;124m'\u001b[39m\u001b[38;5;124mten\u001b[39m\u001b[38;5;124m'\u001b[39m)\n",
      "\u001b[1;31mValueError\u001b[0m: could not convert string to float: 'ten'"
     ]
    }
   ],
   "source": [
    "float('ten')"
   ]
  },
  {
   "cell_type": "markdown",
   "id": "cebdcb95-9cea-4ed8-b6d8-a9fa7e489ea3",
   "metadata": {},
   "source": [
    "### Other data types to complex"
   ]
  },
  {
   "cell_type": "code",
   "execution_count": 9,
   "id": "c75523e6-a7a2-436e-aa50-29fc8a45e36e",
   "metadata": {},
   "outputs": [
    {
     "data": {
      "text/plain": [
       "(10+0j)"
      ]
     },
     "execution_count": 9,
     "metadata": {},
     "output_type": "execute_result"
    }
   ],
   "source": [
    "complex(10)"
   ]
  },
  {
   "cell_type": "code",
   "execution_count": 10,
   "id": "635569dd-4c97-45c7-90d2-4553a891ecd3",
   "metadata": {},
   "outputs": [
    {
     "data": {
      "text/plain": [
       "(12+20j)"
      ]
     },
     "execution_count": 10,
     "metadata": {},
     "output_type": "execute_result"
    }
   ],
   "source": [
    "complex(12,20)"
   ]
  },
  {
   "cell_type": "code",
   "execution_count": 11,
   "id": "e913690f-15d5-4434-89ab-bdb65353e449",
   "metadata": {},
   "outputs": [
    {
     "ename": "TypeError",
     "evalue": "complex() takes at most 2 arguments (3 given)",
     "output_type": "error",
     "traceback": [
      "\u001b[1;31m---------------------------------------------------------------------------\u001b[0m",
      "\u001b[1;31mTypeError\u001b[0m                                 Traceback (most recent call last)",
      "Cell \u001b[1;32mIn[11], line 1\u001b[0m\n\u001b[1;32m----> 1\u001b[0m \u001b[38;5;28mcomplex\u001b[39m(\u001b[38;5;241m10\u001b[39m,\u001b[38;5;241m20\u001b[39m,\u001b[38;5;241m5\u001b[39m)\n",
      "\u001b[1;31mTypeError\u001b[0m: complex() takes at most 2 arguments (3 given)"
     ]
    }
   ],
   "source": [
    "complex(10,20,5)"
   ]
  },
  {
   "cell_type": "code",
   "execution_count": 12,
   "id": "d44b72e8-0630-4a27-9c57-ad3a098490ae",
   "metadata": {},
   "outputs": [
    {
     "data": {
      "text/plain": [
       "(1+0j)"
      ]
     },
     "execution_count": 12,
     "metadata": {},
     "output_type": "execute_result"
    }
   ],
   "source": [
    "complex(True)"
   ]
  },
  {
   "cell_type": "code",
   "execution_count": 13,
   "id": "f18470c5-412b-4d9a-bbf7-95453043d853",
   "metadata": {},
   "outputs": [
    {
     "data": {
      "text/plain": [
       "0j"
      ]
     },
     "execution_count": 13,
     "metadata": {},
     "output_type": "execute_result"
    }
   ],
   "source": [
    "complex(False)"
   ]
  },
  {
   "cell_type": "code",
   "execution_count": 14,
   "id": "b2e7610d-a75e-49ce-a218-ce33dd2bfd54",
   "metadata": {},
   "outputs": [
    {
     "data": {
      "text/plain": [
       "(10+0j)"
      ]
     },
     "execution_count": 14,
     "metadata": {},
     "output_type": "execute_result"
    }
   ],
   "source": [
    "complex('10')"
   ]
  },
  {
   "cell_type": "code",
   "execution_count": 15,
   "id": "b4011162-3095-4b38-8226-bbc51ebcb8dd",
   "metadata": {},
   "outputs": [
    {
     "ename": "ValueError",
     "evalue": "complex() arg is a malformed string",
     "output_type": "error",
     "traceback": [
      "\u001b[1;31m---------------------------------------------------------------------------\u001b[0m",
      "\u001b[1;31mValueError\u001b[0m                                Traceback (most recent call last)",
      "Cell \u001b[1;32mIn[15], line 1\u001b[0m\n\u001b[1;32m----> 1\u001b[0m \u001b[38;5;28mcomplex\u001b[39m(\u001b[38;5;124m'\u001b[39m\u001b[38;5;124mten\u001b[39m\u001b[38;5;124m'\u001b[39m)\n",
      "\u001b[1;31mValueError\u001b[0m: complex() arg is a malformed string"
     ]
    }
   ],
   "source": [
    "complex('ten')"
   ]
  },
  {
   "cell_type": "code",
   "execution_count": 16,
   "id": "ed020c5a-8a23-4e0f-babe-53494b731295",
   "metadata": {},
   "outputs": [
    {
     "data": {
      "text/plain": [
       "(3.2+1.5j)"
      ]
     },
     "execution_count": 16,
     "metadata": {},
     "output_type": "execute_result"
    }
   ],
   "source": [
    "complex(3.2,1.5)"
   ]
  },
  {
   "cell_type": "markdown",
   "id": "c5acbc05-26ca-4721-b982-165f79af726b",
   "metadata": {},
   "source": [
    "### other data types to bool"
   ]
  },
  {
   "cell_type": "code",
   "execution_count": 17,
   "id": "d8ba1486-1965-404d-adb4-9dd8e6966419",
   "metadata": {},
   "outputs": [
    {
     "data": {
      "text/plain": [
       "True"
      ]
     },
     "execution_count": 17,
     "metadata": {},
     "output_type": "execute_result"
    }
   ],
   "source": [
    "bool(1)"
   ]
  },
  {
   "cell_type": "code",
   "execution_count": 18,
   "id": "eae58f3b-de98-483a-a20e-84b90b58d138",
   "metadata": {},
   "outputs": [
    {
     "data": {
      "text/plain": [
       "False"
      ]
     },
     "execution_count": 18,
     "metadata": {},
     "output_type": "execute_result"
    }
   ],
   "source": [
    "bool(0)"
   ]
  },
  {
   "cell_type": "code",
   "execution_count": 19,
   "id": "fa06dcd5-1ae2-449f-9b3d-3953402cec13",
   "metadata": {},
   "outputs": [
    {
     "data": {
      "text/plain": [
       "True"
      ]
     },
     "execution_count": 19,
     "metadata": {},
     "output_type": "execute_result"
    }
   ],
   "source": [
    "bool(3.2)"
   ]
  },
  {
   "cell_type": "code",
   "execution_count": 20,
   "id": "2610623a-4060-4f72-8601-a0d62ce46c16",
   "metadata": {},
   "outputs": [
    {
     "data": {
      "text/plain": [
       "False"
      ]
     },
     "execution_count": 20,
     "metadata": {},
     "output_type": "execute_result"
    }
   ],
   "source": [
    "bool(0.0)"
   ]
  },
  {
   "cell_type": "code",
   "execution_count": 21,
   "id": "33112537-e465-4bd9-92a4-1368c52b075f",
   "metadata": {},
   "outputs": [
    {
     "data": {
      "text/plain": [
       "True"
      ]
     },
     "execution_count": 21,
     "metadata": {},
     "output_type": "execute_result"
    }
   ],
   "source": [
    "bool(1+2j)"
   ]
  },
  {
   "cell_type": "code",
   "execution_count": 22,
   "id": "30475ae8-55f0-4081-a964-57eb68ed37e6",
   "metadata": {},
   "outputs": [
    {
     "data": {
      "text/plain": [
       "False"
      ]
     },
     "execution_count": 22,
     "metadata": {},
     "output_type": "execute_result"
    }
   ],
   "source": [
    "bool(0+0j)"
   ]
  },
  {
   "cell_type": "code",
   "execution_count": 23,
   "id": "dd443efc-8c29-45a0-a4a6-31aa32499b31",
   "metadata": {},
   "outputs": [
    {
     "data": {
      "text/plain": [
       "True"
      ]
     },
     "execution_count": 23,
     "metadata": {},
     "output_type": "execute_result"
    }
   ],
   "source": [
    "bool('ten')"
   ]
  },
  {
   "cell_type": "code",
   "execution_count": 24,
   "id": "cdf8efa4-9100-4556-a483-38a1cc123f13",
   "metadata": {},
   "outputs": [
    {
     "data": {
      "text/plain": [
       "True"
      ]
     },
     "execution_count": 24,
     "metadata": {},
     "output_type": "execute_result"
    }
   ],
   "source": [
    "bool('10')"
   ]
  },
  {
   "cell_type": "code",
   "execution_count": 25,
   "id": "dd627d10-1bc2-4121-8d72-87125ddd8f67",
   "metadata": {},
   "outputs": [
    {
     "data": {
      "text/plain": [
       "True"
      ]
     },
     "execution_count": 25,
     "metadata": {},
     "output_type": "execute_result"
    }
   ],
   "source": [
    "bool(_)"
   ]
  },
  {
   "cell_type": "code",
   "execution_count": 26,
   "id": "e1b9da81-9121-48e2-8403-bc713a4e9c56",
   "metadata": {},
   "outputs": [
    {
     "data": {
      "text/plain": [
       "False"
      ]
     },
     "execution_count": 26,
     "metadata": {},
     "output_type": "execute_result"
    }
   ],
   "source": [
    "bool( )"
   ]
  },
  {
   "cell_type": "markdown",
   "id": "9070555d-75cb-47c8-b1e2-c872e95a5264",
   "metadata": {},
   "source": [
    "### string indexing & advance slicing"
   ]
  },
  {
   "cell_type": "code",
   "execution_count": 3,
   "id": "f1d26f8a-2f8f-4f11-80c0-a9a6788e90f4",
   "metadata": {},
   "outputs": [
    {
     "data": {
      "text/plain": [
       "'hallophyton'"
      ]
     },
     "execution_count": 3,
     "metadata": {},
     "output_type": "execute_result"
    }
   ],
   "source": [
    "s1='hallophyton'\n",
    "s1"
   ]
  },
  {
   "cell_type": "code",
   "execution_count": 4,
   "id": "7df79245-d2cf-41c4-beca-989f21386c71",
   "metadata": {},
   "outputs": [
    {
     "data": {
      "text/plain": [
       "'hallophyton'"
      ]
     },
     "execution_count": 4,
     "metadata": {},
     "output_type": "execute_result"
    }
   ],
   "source": [
    "s9[:]"
   ]
  },
  {
   "cell_type": "code",
   "execution_count": 17,
   "id": "06a6f946-e1ea-4f95-bbb1-ad34aa9c5ee0",
   "metadata": {},
   "outputs": [
    {
     "name": "stdout",
     "output_type": "stream",
     "text": [
      "h\n",
      "a\n",
      "l\n",
      "l\n",
      "o\n",
      "p\n",
      "h\n",
      "y\n",
      "t\n",
      "o\n",
      "n\n"
     ]
    }
   ],
   "source": [
    "for i in s9:\n",
    "    print(i)"
   ]
  },
  {
   "cell_type": "code",
   "execution_count": 19,
   "id": "818f1a78-eefb-4f2d-a504-2dec212f7809",
   "metadata": {},
   "outputs": [
    {
     "name": "stdout",
     "output_type": "stream",
     "text": [
      "h\n",
      "a\n",
      "l\n",
      "l\n",
      "o\n",
      "p\n",
      "h\n",
      "y\n",
      "t\n",
      "o\n",
      "n\n"
     ]
    }
   ],
   "source": [
    "for j in s9:\n",
    "     print(j)"
   ]
  },
  {
   "cell_type": "code",
   "execution_count": 23,
   "id": "b26e5986-bab2-48c7-83ca-9e765c6cede3",
   "metadata": {},
   "outputs": [
    {
     "data": {
      "text/plain": [
       "'notyhpollah'"
      ]
     },
     "execution_count": 23,
     "metadata": {},
     "output_type": "execute_result"
    }
   ],
   "source": [
    "s9[::-1]"
   ]
  },
  {
   "cell_type": "code",
   "execution_count": 30,
   "id": "af620f24",
   "metadata": {},
   "outputs": [
    {
     "data": {
      "text/plain": [
       "'ntholh'"
      ]
     },
     "execution_count": 30,
     "metadata": {},
     "output_type": "execute_result"
    }
   ],
   "source": [
    "s9[::-2]"
   ]
  },
  {
   "cell_type": "code",
   "execution_count": 7,
   "id": "46925d4b-74b6-4270-875e-aa1d332e2ce2",
   "metadata": {},
   "outputs": [
    {
     "data": {
      "text/plain": [
       "'hallo'"
      ]
     },
     "execution_count": 7,
     "metadata": {},
     "output_type": "execute_result"
    }
   ],
   "source": [
    "s9[0:5]"
   ]
  },
  {
   "cell_type": "code",
   "execution_count": 9,
   "id": "3b51ed87-1886-48cd-8a0f-146219611e14",
   "metadata": {
    "scrolled": true
   },
   "outputs": [
    {
     "data": {
      "text/plain": [
       "'hallophyto'"
      ]
     },
     "execution_count": 9,
     "metadata": {},
     "output_type": "execute_result"
    }
   ],
   "source": [
    "s9[0:-1]"
   ]
  },
  {
   "cell_type": "code",
   "execution_count": 34,
   "id": "91608651-c8c5-4003-8db0-f2bda1ce388a",
   "metadata": {},
   "outputs": [
    {
     "name": "stdout",
     "output_type": "stream",
     "text": [
      "hallophyton\n"
     ]
    }
   ],
   "source": [
    "print(s9)"
   ]
  },
  {
   "cell_type": "code",
   "execution_count": 36,
   "id": "c6dd904c-60d5-4ba0-89b7-b64bc36d1723",
   "metadata": {},
   "outputs": [
    {
     "data": {
      "text/plain": [
       "'allophyton'"
      ]
     },
     "execution_count": 36,
     "metadata": {},
     "output_type": "execute_result"
    }
   ],
   "source": [
    "s9[1:11]"
   ]
  },
  {
   "cell_type": "code",
   "execution_count": 37,
   "id": "9a3072bd-0825-48d7-b3e7-3bd66acd66fd",
   "metadata": {},
   "outputs": [
    {
     "data": {
      "text/plain": [
       "'hallo'"
      ]
     },
     "execution_count": 37,
     "metadata": {},
     "output_type": "execute_result"
    }
   ],
   "source": [
    "s9[:5]"
   ]
  },
  {
   "cell_type": "code",
   "execution_count": 38,
   "id": "1f868625-6f74-4f7d-b805-a4c94d2d2f81",
   "metadata": {},
   "outputs": [
    {
     "data": {
      "text/plain": [
       "'phyton'"
      ]
     },
     "execution_count": 38,
     "metadata": {},
     "output_type": "execute_result"
    }
   ],
   "source": [
    "s9[5:]"
   ]
  },
  {
   "cell_type": "code",
   "execution_count": 39,
   "id": "9026206c-bbf8-4899-9fc7-0d35285aae78",
   "metadata": {},
   "outputs": [
    {
     "data": {
      "text/plain": [
       "'hlohtn'"
      ]
     },
     "execution_count": 39,
     "metadata": {},
     "output_type": "execute_result"
    }
   ],
   "source": [
    "s9[0:11:2]"
   ]
  },
  {
   "cell_type": "code",
   "execution_count": 48,
   "id": "143e397b-5f9e-4448-adf6-1f9593eb2c11",
   "metadata": {},
   "outputs": [
    {
     "name": "stdout",
     "output_type": "stream",
     "text": [
      "The addition of 20, 30 and 50 is  100\n"
     ]
    }
   ],
   "source": [
    "num1=20\n",
    "num2=30\n",
    "num3=50\n",
    "add=num1+num2+num3\n",
    "print('The addition of {}, {} and {} is  {}'. format(num1,num2,num3,add))"
   ]
  },
  {
   "cell_type": "code",
   "execution_count": null,
   "id": "f635dd4a-a65b-4b49-ae00-9379db72287b",
   "metadata": {},
   "outputs": [],
   "source": []
  }
 ],
 "metadata": {
  "kernelspec": {
   "display_name": "Python [conda env:base] *",
   "language": "python",
   "name": "conda-base-py"
  },
  "language_info": {
   "codemirror_mode": {
    "name": "ipython",
    "version": 3
   },
   "file_extension": ".py",
   "mimetype": "text/x-python",
   "name": "python",
   "nbconvert_exporter": "python",
   "pygments_lexer": "ipython3",
   "version": "3.12.7"
  }
 },
 "nbformat": 4,
 "nbformat_minor": 5
}
