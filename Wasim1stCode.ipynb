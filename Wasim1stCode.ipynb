{
  "metadata": {
    "kernelspec": {
      "name": "python",
      "display_name": "Python (Pyodide)",
      "language": "python"
    },
    "language_info": {
      "codemirror_mode": {
        "name": "python",
        "version": 3
      },
      "file_extension": ".py",
      "mimetype": "text/x-python",
      "name": "python",
      "nbconvert_exporter": "python",
      "pygments_lexer": "ipython3",
      "version": "3.8"
    }
  },
  "nbformat_minor": 5,
  "nbformat": 4,
  "cells": [
    {
      "id": "bbc9c889-5317-46eb-aa78-0569d4572983",
      "cell_type": "code",
      "source": "2+5",
      "metadata": {
        "trusted": true
      },
      "outputs": [
        {
          "execution_count": 11,
          "output_type": "execute_result",
          "data": {
            "text/plain": "7"
          },
          "metadata": {}
        }
      ],
      "execution_count": 11
    },
    {
      "id": "976f464e-a3a4-4886-8782-a5ae00c3dca4",
      "cell_type": "code",
      "source": "import numpy as np",
      "metadata": {
        "trusted": true
      },
      "outputs": [],
      "execution_count": 7
    },
    {
      "id": "f0c23b45-d722-4e53-bc65-60db8f24dd24",
      "cell_type": "code",
      "source": "np.arange(10)\n",
      "metadata": {
        "trusted": true
      },
      "outputs": [
        {
          "execution_count": 8,
          "output_type": "execute_result",
          "data": {
            "text/plain": "array([0, 1, 2, 3, 4, 5, 6, 7, 8, 9])"
          },
          "metadata": {}
        }
      ],
      "execution_count": 8
    },
    {
      "id": "e296970c-f17d-4f6f-b5cd-07b2b6949b11",
      "cell_type": "code",
      "source": "my_list=[1,2,3,4]",
      "metadata": {
        "trusted": true
      },
      "outputs": [],
      "execution_count": 9
    },
    {
      "id": "04218722-e524-436b-ba5d-04a1d8b605ed",
      "cell_type": "code",
      "source": "my_list",
      "metadata": {
        "trusted": true
      },
      "outputs": [
        {
          "execution_count": 10,
          "output_type": "execute_result",
          "data": {
            "text/plain": "[1, 2, 3, 4]"
          },
          "metadata": {}
        }
      ],
      "execution_count": 10
    },
    {
      "id": "555106e9-4ef6-4492-912e-924760b4bf42",
      "cell_type": "code",
      "source": "import os\n",
      "metadata": {
        "trusted": true
      },
      "outputs": [],
      "execution_count": 17
    },
    {
      "id": "30300a8a-5dab-4359-8703-f94bc002a020",
      "cell_type": "code",
      "source": "os.getcwd()",
      "metadata": {
        "trusted": true
      },
      "outputs": [
        {
          "execution_count": 20,
          "output_type": "execute_result",
          "data": {
            "text/plain": "'/drive/notebooks'"
          },
          "metadata": {}
        }
      ],
      "execution_count": 20
    },
    {
      "id": "d36f5fcd-2d7d-4f25-a69d-2304b6cbfc53",
      "cell_type": "code",
      "source": "",
      "metadata": {
        "trusted": true
      },
      "outputs": [],
      "execution_count": null
    }
  ]
}